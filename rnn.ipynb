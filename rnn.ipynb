{
 "cells": [
  {
   "cell_type": "markdown",
   "metadata": {},
   "source": [
    "# Recurrent neural network for Google Stock Price\n",
    "### Importing the libraries"
   ]
  },
  {
   "cell_type": "code",
   "execution_count": 43,
   "metadata": {},
   "outputs": [],
   "source": [
    "import numpy as np\n",
    "import matplotlib.pyplot as plt\n",
    "import pandas as pd\n",
    "\n",
    "from sklearn.preprocessing import MinMaxScaler\n",
    "from sklearn.metrics import r2_score\n",
    "\n",
    "from keras.models import Sequential\n",
    "from keras.layers import Dense, LSTM, Dropout"
   ]
  },
  {
   "cell_type": "markdown",
   "metadata": {},
   "source": [
    "## Part 1 - Data Preprocessing\n",
    "### Importing the training set\n",
    "\n",
    "Here, we are specifically importing and utilizing the training set in this analysis to highlight the fact that our model will be trained solely on this data. During the training phase, our model will have no knowledge of the test set, and there will be no equivalent of the test set available during training. Essentially, it's as if the test set doesn't exist for our model during the training process.\n",
    "\n",
    "However, once the training is completed, we will introduce the test set to assess and validate the model's performance by making predictions on future stock prices."
   ]
  },
  {
   "cell_type": "code",
   "execution_count": 2,
   "metadata": {},
   "outputs": [],
   "source": [
    "dataset_train = pd.read_csv('./data/Google_Stock_Price_Train.csv')\n"
   ]
  },
  {
   "cell_type": "code",
   "execution_count": 3,
   "metadata": {},
   "outputs": [
    {
     "data": {
      "text/html": [
       "<div>\n",
       "<style scoped>\n",
       "    .dataframe tbody tr th:only-of-type {\n",
       "        vertical-align: middle;\n",
       "    }\n",
       "\n",
       "    .dataframe tbody tr th {\n",
       "        vertical-align: top;\n",
       "    }\n",
       "\n",
       "    .dataframe thead th {\n",
       "        text-align: right;\n",
       "    }\n",
       "</style>\n",
       "<table border=\"1\" class=\"dataframe\">\n",
       "  <thead>\n",
       "    <tr style=\"text-align: right;\">\n",
       "      <th></th>\n",
       "      <th>Date</th>\n",
       "      <th>Open</th>\n",
       "      <th>High</th>\n",
       "      <th>Low</th>\n",
       "      <th>Close</th>\n",
       "      <th>Volume</th>\n",
       "    </tr>\n",
       "  </thead>\n",
       "  <tbody>\n",
       "    <tr>\n",
       "      <th>0</th>\n",
       "      <td>1/3/2012</td>\n",
       "      <td>325.25</td>\n",
       "      <td>332.83</td>\n",
       "      <td>324.97</td>\n",
       "      <td>663.59</td>\n",
       "      <td>7,380,500</td>\n",
       "    </tr>\n",
       "    <tr>\n",
       "      <th>1</th>\n",
       "      <td>1/4/2012</td>\n",
       "      <td>331.27</td>\n",
       "      <td>333.87</td>\n",
       "      <td>329.08</td>\n",
       "      <td>666.45</td>\n",
       "      <td>5,749,400</td>\n",
       "    </tr>\n",
       "    <tr>\n",
       "      <th>2</th>\n",
       "      <td>1/5/2012</td>\n",
       "      <td>329.83</td>\n",
       "      <td>330.75</td>\n",
       "      <td>326.89</td>\n",
       "      <td>657.21</td>\n",
       "      <td>6,590,300</td>\n",
       "    </tr>\n",
       "    <tr>\n",
       "      <th>3</th>\n",
       "      <td>1/6/2012</td>\n",
       "      <td>328.34</td>\n",
       "      <td>328.77</td>\n",
       "      <td>323.68</td>\n",
       "      <td>648.24</td>\n",
       "      <td>5,405,900</td>\n",
       "    </tr>\n",
       "    <tr>\n",
       "      <th>4</th>\n",
       "      <td>1/9/2012</td>\n",
       "      <td>322.04</td>\n",
       "      <td>322.29</td>\n",
       "      <td>309.46</td>\n",
       "      <td>620.76</td>\n",
       "      <td>11,688,800</td>\n",
       "    </tr>\n",
       "  </tbody>\n",
       "</table>\n",
       "</div>"
      ],
      "text/plain": [
       "       Date    Open    High     Low   Close      Volume\n",
       "0  1/3/2012  325.25  332.83  324.97  663.59   7,380,500\n",
       "1  1/4/2012  331.27  333.87  329.08  666.45   5,749,400\n",
       "2  1/5/2012  329.83  330.75  326.89  657.21   6,590,300\n",
       "3  1/6/2012  328.34  328.77  323.68  648.24   5,405,900\n",
       "4  1/9/2012  322.04  322.29  309.46  620.76  11,688,800"
      ]
     },
     "execution_count": 3,
     "metadata": {},
     "output_type": "execute_result"
    }
   ],
   "source": [
    "dataset_train.head()"
   ]
  },
  {
   "cell_type": "markdown",
   "metadata": {},
   "source": [
    "Check for missing values in each column"
   ]
  },
  {
   "cell_type": "code",
   "execution_count": 4,
   "metadata": {},
   "outputs": [
    {
     "name": "stdout",
     "output_type": "stream",
     "text": [
      "Missing values per column:\n",
      "Date      0\n",
      "Open      0\n",
      "High      0\n",
      "Low       0\n",
      "Close     0\n",
      "Volume    0\n",
      "dtype: int64\n"
     ]
    }
   ],
   "source": [
    "missing_values = dataset_train.isnull().sum()\n",
    "print(\"Missing values per column:\")\n",
    "print(missing_values)"
   ]
  },
  {
   "cell_type": "markdown",
   "metadata": {},
   "source": [
    "We don't have any missing values.\n",
    "\n",
    "Now we define the real data input for our model (training set) by selecting the necessary column (Open) and converting them into a NumPy array, which will serve as the input data for training our model."
   ]
  },
  {
   "cell_type": "code",
   "execution_count": 5,
   "metadata": {},
   "outputs": [],
   "source": [
    "training_set = dataset_train[['Open']].values"
   ]
  },
  {
   "cell_type": "code",
   "execution_count": 6,
   "metadata": {},
   "outputs": [
    {
     "data": {
      "text/plain": [
       "array([[325.25],\n",
       "       [331.27],\n",
       "       [329.83],\n",
       "       ...,\n",
       "       [793.7 ],\n",
       "       [783.33],\n",
       "       [782.75]])"
      ]
     },
     "execution_count": 6,
     "metadata": {},
     "output_type": "execute_result"
    }
   ],
   "source": [
    "training_set"
   ]
  },
  {
   "cell_type": "markdown",
   "metadata": {},
   "source": [
    "### Feature Scaling\n",
    "\n",
    "Now, we are going to apply the appropriate feature scaling to our data to optimize the training process.\n",
    "\n",
    "We have two possibilities:\n",
    "- Standardization\n",
    "- Normalization\n",
    "\n",
    "I have chosen to use Normalization as it is more relevant in this context. When building an RNN, especially when a sigmoid function is used as an activation function in the output layer, it is recommended to apply normalization for improved performance.\n",
    "\n",
    "Normalization helps in bringing all features to a similar scale, which can aid in the training process by ensuring that no particular feature dominates due to its larger scale. This is particularly important for activation functions like sigmoid, where small input values can result in vanishing gradients, impacting learning during backpropagation."
   ]
  },
  {
   "cell_type": "code",
   "execution_count": 7,
   "metadata": {},
   "outputs": [],
   "source": [
    "scaler = MinMaxScaler(feature_range=(0,1))"
   ]
  },
  {
   "cell_type": "code",
   "execution_count": 8,
   "metadata": {},
   "outputs": [],
   "source": [
    "training_set_scaled = scaler.fit_transform(training_set)"
   ]
  },
  {
   "cell_type": "code",
   "execution_count": 9,
   "metadata": {},
   "outputs": [
    {
     "name": "stdout",
     "output_type": "stream",
     "text": [
      "[[0.08581368]\n",
      " [0.09701243]\n",
      " [0.09433366]\n",
      " ...\n",
      " [0.95725128]\n",
      " [0.93796041]\n",
      " [0.93688146]]\n"
     ]
    }
   ],
   "source": [
    "print(training_set_scaled)"
   ]
  },
  {
   "cell_type": "markdown",
   "metadata": {},
   "source": [
    "### Create a specific data structure\n",
    "Now, we will define a specific data structure that outlines what the RNN needs to remember when predicting the next stock price. This structure is referred to as the 'number of time steps.' It plays a critical role in determining the temporal memory or context the RNN will consider during its prediction of future stock prices.\n",
    "\n",
    "In this case, we have 60 timesteps and one output. This implies that at each time 't,' the RNN will analyze the 60 stock prices leading up to time 't' (or the 60 days prior to time 't'), and then we will attempt to predict the subsequent output.\n",
    "\n",
    "X_train: The input for the RNN, consisting of the 60 previous stock prices.\n",
    "y_train: The output representing the stock price for the next financial day."
   ]
  },
  {
   "cell_type": "code",
   "execution_count": 10,
   "metadata": {},
   "outputs": [],
   "source": [
    "X_train = []\n",
    "y_train = []\n",
    "\n",
    "nb_timesteps = 60\n",
    "\n",
    "for i in range(nb_timesteps, len(training_set_scaled)):\n",
    "    X_train.append(training_set_scaled[i-nb_timesteps:i, 0])\n",
    "    y_train.append(training_set_scaled[i,0])\n",
    "\n",
    "X_train, y_train = np.array(X_train), np.array(y_train) "
   ]
  },
  {
   "cell_type": "code",
   "execution_count": 11,
   "metadata": {},
   "outputs": [
    {
     "name": "stdout",
     "output_type": "stream",
     "text": [
      "[[0.08581368 0.09701243 0.09433366 ... 0.07846566 0.08034452 0.08497656]\n",
      " [0.09701243 0.09433366 0.09156187 ... 0.08034452 0.08497656 0.08627874]\n",
      " [0.09433366 0.09156187 0.07984225 ... 0.08497656 0.08627874 0.08471612]\n",
      " ...\n",
      " [0.92106928 0.92438053 0.93048218 ... 0.95475854 0.95204256 0.95163331]\n",
      " [0.92438053 0.93048218 0.9299055  ... 0.95204256 0.95163331 0.95725128]\n",
      " [0.93048218 0.9299055  0.93113327 ... 0.95163331 0.95725128 0.93796041]]\n"
     ]
    }
   ],
   "source": [
    "print(X_train)"
   ]
  },
  {
   "cell_type": "code",
   "execution_count": 12,
   "metadata": {},
   "outputs": [
    {
     "name": "stdout",
     "output_type": "stream",
     "text": [
      "[0.08627874 0.08471612 0.07454052 ... 0.95725128 0.93796041 0.93688146]\n"
     ]
    }
   ],
   "source": [
    "print(y_train)"
   ]
  },
  {
   "cell_type": "markdown",
   "metadata": {},
   "source": [
    "### Reshaping \n",
    "We are now going to reshape the data structure to introduce additional dimensions to the previous data structure, allowing for the inclusion of more indicators if desired.\n",
    "\n",
    "The input shape with Keras should be a 3D tensor with dimensions (batch_size, timesteps, input_dim) for Recurrent Layers. 'Batch_size' corresponds to the number of observations.\n"
   ]
  },
  {
   "cell_type": "code",
   "execution_count": 13,
   "metadata": {},
   "outputs": [],
   "source": [
    "batch_size, timesteps = X_train.shape\n",
    "input_dim = 1\n",
    "\n",
    "X_train = np.reshape(X_train, (batch_size, timesteps, input_dim))"
   ]
  },
  {
   "cell_type": "markdown",
   "metadata": {},
   "source": [
    "Now we have the right structure expected for our RNN."
   ]
  },
  {
   "cell_type": "markdown",
   "metadata": {},
   "source": [
    "## Part 2 - Building the RNN"
   ]
  },
  {
   "cell_type": "markdown",
   "metadata": {},
   "source": [
    "We will construct a robust architecture by not only using a simple LSTM but also implementing a stacked LSTM with dropout regularization to prevent overfitting.\n",
    "\n",
    "### Initialising the RNN\n",
    "Initialising the RNN as a sequence of layer."
   ]
  },
  {
   "cell_type": "code",
   "execution_count": 14,
   "metadata": {},
   "outputs": [],
   "source": [
    "regressor = Sequential()"
   ]
  },
  {
   "cell_type": "markdown",
   "metadata": {},
   "source": [
    "### Adding the first LSTM layer and some Dropout regularisation\n",
    "As mentionned before, we will use some dropout regularization, but what's it ? \n",
    "\n",
    "This is a technique used in neural network training to prevent overfitting and improve the model's generalization performance. During the training process, dropout randomly sets a fraction (rate) of the neurons in a layer to zero, effectively 'dropping out' those units. This means that the model trains on a reduced network for each batch, as different neurons are dropped out in each training iteration.\n",
    "\n",
    "By doing this, dropout helps prevent the neural network from relying too heavily on a specific set of neurons and encourages the network to learn more robust and generalizable features. It essentially forces the model to learn redundant representations of information, reducing the risk of overfitting to the training data.\n",
    "\n",
    "When utilizing multiple LSTM layers, it is necessary to set 'return_sequences' to True. 'Units' represents the number of LSTM cells, memory units, or neurons that we intend to have in this initial LSTM layer."
   ]
  },
  {
   "cell_type": "code",
   "execution_count": 15,
   "metadata": {},
   "outputs": [],
   "source": [
    "regressor.add(LSTM(units=70, return_sequences=True, input_shape=(X_train.shape[1],1)))\n",
    "regressor.add(Dropout(rate=0.3))"
   ]
  },
  {
   "cell_type": "markdown",
   "metadata": {},
   "source": [
    "### Adding others LSTM layers with Dropout regularisation"
   ]
  },
  {
   "cell_type": "code",
   "execution_count": 16,
   "metadata": {},
   "outputs": [],
   "source": [
    "# regressor.add(LSTM(units=70, return_sequences=True))\n",
    "# regressor.add(Dropout(rate=0.3))"
   ]
  },
  {
   "cell_type": "code",
   "execution_count": 17,
   "metadata": {},
   "outputs": [],
   "source": [
    "# regressor.add(LSTM(units=50, return_sequences=True))\n",
    "# regressor.add(Dropout(rate=0.2))"
   ]
  },
  {
   "cell_type": "code",
   "execution_count": 18,
   "metadata": {},
   "outputs": [],
   "source": [
    "regressor.add(LSTM(units=70))\n",
    "regressor.add(Dropout(rate=0.3))"
   ]
  },
  {
   "cell_type": "markdown",
   "metadata": {},
   "source": [
    "### Adding the output layer"
   ]
  },
  {
   "cell_type": "code",
   "execution_count": 19,
   "metadata": {},
   "outputs": [],
   "source": [
    "regressor.add(Dense(units=1))"
   ]
  },
  {
   "cell_type": "markdown",
   "metadata": {},
   "source": [
    "### Compiling the RNN"
   ]
  },
  {
   "cell_type": "code",
   "execution_count": 20,
   "metadata": {},
   "outputs": [],
   "source": [
    "regressor.compile(optimizer=\"rmsprop\", loss=\"mean_squared_error\")"
   ]
  },
  {
   "cell_type": "markdown",
   "metadata": {},
   "source": [
    "### Fitting the RNN on the training set\n",
    "Epochs represent the number of times the entire dataset is used for training. With 100 epochs, the model learns from the data 100 times.\n",
    "\n",
    "Batch size refers to the number of data samples processed in a single training iteration. A batch size of 32 means 32 samples are used to update the model's weights at each step, enhancing training efficiency"
   ]
  },
  {
   "cell_type": "code",
   "execution_count": 21,
   "metadata": {},
   "outputs": [
    {
     "name": "stdout",
     "output_type": "stream",
     "text": [
      "Epoch 1/85\n",
      "38/38 [==============================] - 4s 32ms/step - loss: 0.0252\n",
      "Epoch 2/85\n",
      "38/38 [==============================] - 1s 32ms/step - loss: 0.0085\n",
      "Epoch 3/85\n",
      "38/38 [==============================] - 1s 31ms/step - loss: 0.0068\n",
      "Epoch 4/85\n",
      "38/38 [==============================] - 1s 32ms/step - loss: 0.0064\n",
      "Epoch 5/85\n",
      "38/38 [==============================] - 1s 31ms/step - loss: 0.0061\n",
      "Epoch 6/85\n",
      "38/38 [==============================] - 1s 31ms/step - loss: 0.0058\n",
      "Epoch 7/85\n",
      "38/38 [==============================] - 1s 31ms/step - loss: 0.0055\n",
      "Epoch 8/85\n",
      "38/38 [==============================] - 1s 31ms/step - loss: 0.0053\n",
      "Epoch 9/85\n",
      "38/38 [==============================] - 1s 31ms/step - loss: 0.0050\n",
      "Epoch 10/85\n",
      "38/38 [==============================] - 1s 31ms/step - loss: 0.0050\n",
      "Epoch 11/85\n",
      "38/38 [==============================] - 1s 30ms/step - loss: 0.0052\n",
      "Epoch 12/85\n",
      "38/38 [==============================] - 1s 30ms/step - loss: 0.0041\n",
      "Epoch 13/85\n",
      "38/38 [==============================] - 1s 30ms/step - loss: 0.0039\n",
      "Epoch 14/85\n",
      "38/38 [==============================] - 1s 31ms/step - loss: 0.0039\n",
      "Epoch 15/85\n",
      "38/38 [==============================] - 1s 31ms/step - loss: 0.0039\n",
      "Epoch 16/85\n",
      "38/38 [==============================] - 1s 30ms/step - loss: 0.0039\n",
      "Epoch 17/85\n",
      "38/38 [==============================] - 1s 30ms/step - loss: 0.0037\n",
      "Epoch 18/85\n",
      "38/38 [==============================] - 1s 30ms/step - loss: 0.0038\n",
      "Epoch 19/85\n",
      "38/38 [==============================] - 1s 33ms/step - loss: 0.0037\n",
      "Epoch 20/85\n",
      "38/38 [==============================] - 1s 34ms/step - loss: 0.0036\n",
      "Epoch 21/85\n",
      "38/38 [==============================] - 1s 33ms/step - loss: 0.0036\n",
      "Epoch 22/85\n",
      "38/38 [==============================] - 1s 32ms/step - loss: 0.0032\n",
      "Epoch 23/85\n",
      "38/38 [==============================] - 1s 32ms/step - loss: 0.0031\n",
      "Epoch 24/85\n",
      "38/38 [==============================] - 1s 32ms/step - loss: 0.0032\n",
      "Epoch 25/85\n",
      "38/38 [==============================] - 1s 35ms/step - loss: 0.0034\n",
      "Epoch 26/85\n",
      "38/38 [==============================] - 1s 34ms/step - loss: 0.0031\n",
      "Epoch 27/85\n",
      "38/38 [==============================] - 1s 34ms/step - loss: 0.0029\n",
      "Epoch 28/85\n",
      "38/38 [==============================] - 1s 34ms/step - loss: 0.0027\n",
      "Epoch 29/85\n",
      "38/38 [==============================] - 1s 33ms/step - loss: 0.0029\n",
      "Epoch 30/85\n",
      "38/38 [==============================] - 1s 32ms/step - loss: 0.0026\n",
      "Epoch 31/85\n",
      "38/38 [==============================] - 1s 32ms/step - loss: 0.0024\n",
      "Epoch 32/85\n",
      "38/38 [==============================] - 1s 32ms/step - loss: 0.0026\n",
      "Epoch 33/85\n",
      "38/38 [==============================] - 1s 32ms/step - loss: 0.0025\n",
      "Epoch 34/85\n",
      "38/38 [==============================] - 1s 32ms/step - loss: 0.0028\n",
      "Epoch 35/85\n",
      "38/38 [==============================] - 1s 32ms/step - loss: 0.0026\n",
      "Epoch 36/85\n",
      "38/38 [==============================] - 1s 32ms/step - loss: 0.0024\n",
      "Epoch 37/85\n",
      "38/38 [==============================] - 1s 32ms/step - loss: 0.0025\n",
      "Epoch 38/85\n",
      "38/38 [==============================] - 1s 32ms/step - loss: 0.0023\n",
      "Epoch 39/85\n",
      "38/38 [==============================] - 1s 32ms/step - loss: 0.0021\n",
      "Epoch 40/85\n",
      "38/38 [==============================] - 1s 32ms/step - loss: 0.0022\n",
      "Epoch 41/85\n",
      "38/38 [==============================] - 1s 32ms/step - loss: 0.0021\n",
      "Epoch 42/85\n",
      "38/38 [==============================] - 1s 32ms/step - loss: 0.0022\n",
      "Epoch 43/85\n",
      "38/38 [==============================] - 1s 32ms/step - loss: 0.0021\n",
      "Epoch 44/85\n",
      "38/38 [==============================] - 1s 31ms/step - loss: 0.0024\n",
      "Epoch 45/85\n",
      "38/38 [==============================] - 1s 32ms/step - loss: 0.0024\n",
      "Epoch 46/85\n",
      "38/38 [==============================] - 1s 32ms/step - loss: 0.0021\n",
      "Epoch 47/85\n",
      "38/38 [==============================] - 1s 32ms/step - loss: 0.0022\n",
      "Epoch 48/85\n",
      "38/38 [==============================] - 1s 32ms/step - loss: 0.0021\n",
      "Epoch 49/85\n",
      "38/38 [==============================] - 1s 33ms/step - loss: 0.0020\n",
      "Epoch 50/85\n",
      "38/38 [==============================] - 1s 32ms/step - loss: 0.0023\n",
      "Epoch 51/85\n",
      "38/38 [==============================] - 1s 33ms/step - loss: 0.0019\n",
      "Epoch 52/85\n",
      "38/38 [==============================] - 1s 32ms/step - loss: 0.0020\n",
      "Epoch 53/85\n",
      "38/38 [==============================] - 1s 32ms/step - loss: 0.0019\n",
      "Epoch 54/85\n",
      "38/38 [==============================] - 1s 32ms/step - loss: 0.0018\n",
      "Epoch 55/85\n",
      "38/38 [==============================] - 1s 32ms/step - loss: 0.0022\n",
      "Epoch 56/85\n",
      "38/38 [==============================] - 1s 32ms/step - loss: 0.0019\n",
      "Epoch 57/85\n",
      "38/38 [==============================] - 1s 32ms/step - loss: 0.0020\n",
      "Epoch 58/85\n",
      "38/38 [==============================] - 1s 32ms/step - loss: 0.0019\n",
      "Epoch 59/85\n",
      "38/38 [==============================] - 1s 32ms/step - loss: 0.0018\n",
      "Epoch 60/85\n",
      "38/38 [==============================] - 1s 32ms/step - loss: 0.0019\n",
      "Epoch 61/85\n",
      "38/38 [==============================] - 1s 31ms/step - loss: 0.0019\n",
      "Epoch 62/85\n",
      "38/38 [==============================] - 1s 32ms/step - loss: 0.0017\n",
      "Epoch 63/85\n",
      "38/38 [==============================] - 1s 32ms/step - loss: 0.0016\n",
      "Epoch 64/85\n",
      "38/38 [==============================] - 1s 32ms/step - loss: 0.0018\n",
      "Epoch 65/85\n",
      "38/38 [==============================] - 1s 32ms/step - loss: 0.0017\n",
      "Epoch 66/85\n",
      "38/38 [==============================] - 1s 31ms/step - loss: 0.0016\n",
      "Epoch 67/85\n",
      "38/38 [==============================] - 1s 31ms/step - loss: 0.0016\n",
      "Epoch 68/85\n",
      "38/38 [==============================] - 1s 31ms/step - loss: 0.0017\n",
      "Epoch 69/85\n",
      "38/38 [==============================] - 1s 31ms/step - loss: 0.0017\n",
      "Epoch 70/85\n",
      "38/38 [==============================] - 1s 32ms/step - loss: 0.0016\n",
      "Epoch 71/85\n",
      "38/38 [==============================] - 1s 31ms/step - loss: 0.0016\n",
      "Epoch 72/85\n",
      "38/38 [==============================] - 1s 31ms/step - loss: 0.0016\n",
      "Epoch 73/85\n",
      "38/38 [==============================] - 1s 31ms/step - loss: 0.0015\n",
      "Epoch 74/85\n",
      "38/38 [==============================] - 1s 31ms/step - loss: 0.0014\n",
      "Epoch 75/85\n",
      "38/38 [==============================] - 1s 31ms/step - loss: 0.0015\n",
      "Epoch 76/85\n",
      "38/38 [==============================] - 1s 31ms/step - loss: 0.0016\n",
      "Epoch 77/85\n",
      "38/38 [==============================] - 1s 31ms/step - loss: 0.0017\n",
      "Epoch 78/85\n",
      "38/38 [==============================] - 1s 32ms/step - loss: 0.0015\n",
      "Epoch 79/85\n",
      "38/38 [==============================] - 1s 31ms/step - loss: 0.0016\n",
      "Epoch 80/85\n",
      "38/38 [==============================] - 1s 31ms/step - loss: 0.0015\n",
      "Epoch 81/85\n",
      "38/38 [==============================] - 1s 31ms/step - loss: 0.0015\n",
      "Epoch 82/85\n",
      "38/38 [==============================] - 1s 33ms/step - loss: 0.0013\n",
      "Epoch 83/85\n",
      "38/38 [==============================] - 1s 32ms/step - loss: 0.0015\n",
      "Epoch 84/85\n",
      "38/38 [==============================] - 1s 31ms/step - loss: 0.0015\n",
      "Epoch 85/85\n",
      "38/38 [==============================] - 1s 31ms/step - loss: 0.0015\n"
     ]
    },
    {
     "data": {
      "text/plain": [
       "<keras.src.callbacks.History at 0x17da95c3210>"
      ]
     },
     "execution_count": 21,
     "metadata": {},
     "output_type": "execute_result"
    }
   ],
   "source": [
    "regressor.fit(x=X_train, y=y_train, epochs=85, batch_size=32)"
   ]
  },
  {
   "cell_type": "markdown",
   "metadata": {},
   "source": [
    "The fitting process appears to converge around the 80th epoch, suggesting that the model's performance stabilizes and further epochs may not significantly enhance performance."
   ]
  },
  {
   "cell_type": "markdown",
   "metadata": {},
   "source": [
    "## Part 3 - Making the predictions and visualising the results"
   ]
  },
  {
   "cell_type": "markdown",
   "metadata": {},
   "source": [
    "### Get the real Google stock price of 2017"
   ]
  },
  {
   "cell_type": "code",
   "execution_count": 22,
   "metadata": {},
   "outputs": [],
   "source": [
    "dataset_test = pd.read_csv('./data/Google_Stock_Price_Test.csv')\n",
    "real_stock_price = dataset_test[['Open']].values"
   ]
  },
  {
   "cell_type": "code",
   "execution_count": 23,
   "metadata": {},
   "outputs": [
    {
     "name": "stdout",
     "output_type": "stream",
     "text": [
      "[[778.81]\n",
      " [788.36]\n",
      " [786.08]\n",
      " [795.26]\n",
      " [806.4 ]\n",
      " [807.86]\n",
      " [805.  ]\n",
      " [807.14]\n",
      " [807.48]\n",
      " [807.08]\n",
      " [805.81]\n",
      " [805.12]\n",
      " [806.91]\n",
      " [807.25]\n",
      " [822.3 ]\n",
      " [829.62]\n",
      " [837.81]\n",
      " [834.71]\n",
      " [814.66]\n",
      " [796.86]]\n"
     ]
    }
   ],
   "source": [
    "print(real_stock_price)"
   ]
  },
  {
   "cell_type": "markdown",
   "metadata": {},
   "source": [
    "### Getting the predicted stock price of 2017"
   ]
  },
  {
   "cell_type": "code",
   "execution_count": 24,
   "metadata": {},
   "outputs": [
    {
     "data": {
      "text/plain": [
       "0    325.25\n",
       "1    331.27\n",
       "2    329.83\n",
       "3    328.34\n",
       "4    322.04\n",
       "Name: Open, dtype: float64"
      ]
     },
     "execution_count": 24,
     "metadata": {},
     "output_type": "execute_result"
    }
   ],
   "source": [
    "dataset_total = pd.concat((dataset_train['Open'], dataset_test['Open']), axis=0)\n",
    "dataset_total.head()"
   ]
  },
  {
   "cell_type": "markdown",
   "metadata": {},
   "source": [
    "At each financial day of january 2017, we need to get the previous 60 stock prices."
   ]
  },
  {
   "cell_type": "code",
   "execution_count": 25,
   "metadata": {},
   "outputs": [
    {
     "name": "stdout",
     "output_type": "stream",
     "text": [
      "[779.   779.66 777.71 786.66 783.76 781.22 781.65 779.8  787.85 798.24\n",
      " 803.3  795.   804.9  816.68 806.34 801.   808.35 795.47 782.89 778.2\n",
      " 767.25 750.66 774.5  783.4  779.94 791.17 756.54 755.6  746.97 755.2\n",
      " 766.92 771.37 762.61 772.63 767.73 764.26 760.   771.53 770.07 757.44\n",
      " 744.59 757.71 764.73 761.   772.48 780.   785.04 793.9  797.4  797.34\n",
      " 800.4  790.22 796.76 795.84 792.36 790.9  790.68 793.7  783.33 782.75\n",
      " 778.81 788.36 786.08 795.26 806.4  807.86 805.   807.14 807.48 807.08\n",
      " 805.81 805.12 806.91 807.25 822.3  829.62 837.81 834.71 814.66 796.86]\n"
     ]
    }
   ],
   "source": [
    "idx_first_day_january = len(dataset_total) - len(dataset_test)\n",
    "inputs = dataset_total[idx_first_day_january - nb_timesteps:].values\n",
    "print(inputs)"
   ]
  },
  {
   "cell_type": "markdown",
   "metadata": {},
   "source": [
    "reshape inputs in lines and one column"
   ]
  },
  {
   "cell_type": "code",
   "execution_count": 26,
   "metadata": {},
   "outputs": [
    {
     "name": "stdout",
     "output_type": "stream",
     "text": [
      "[[779.  ]\n",
      " [779.66]\n",
      " [777.71]\n",
      " [786.66]\n",
      " [783.76]\n",
      " [781.22]\n",
      " [781.65]\n",
      " [779.8 ]\n",
      " [787.85]\n",
      " [798.24]\n",
      " [803.3 ]\n",
      " [795.  ]\n",
      " [804.9 ]\n",
      " [816.68]\n",
      " [806.34]\n",
      " [801.  ]\n",
      " [808.35]\n",
      " [795.47]\n",
      " [782.89]\n",
      " [778.2 ]\n",
      " [767.25]\n",
      " [750.66]\n",
      " [774.5 ]\n",
      " [783.4 ]\n",
      " [779.94]\n",
      " [791.17]\n",
      " [756.54]\n",
      " [755.6 ]\n",
      " [746.97]\n",
      " [755.2 ]\n",
      " [766.92]\n",
      " [771.37]\n",
      " [762.61]\n",
      " [772.63]\n",
      " [767.73]\n",
      " [764.26]\n",
      " [760.  ]\n",
      " [771.53]\n",
      " [770.07]\n",
      " [757.44]\n",
      " [744.59]\n",
      " [757.71]\n",
      " [764.73]\n",
      " [761.  ]\n",
      " [772.48]\n",
      " [780.  ]\n",
      " [785.04]\n",
      " [793.9 ]\n",
      " [797.4 ]\n",
      " [797.34]\n",
      " [800.4 ]\n",
      " [790.22]\n",
      " [796.76]\n",
      " [795.84]\n",
      " [792.36]\n",
      " [790.9 ]\n",
      " [790.68]\n",
      " [793.7 ]\n",
      " [783.33]\n",
      " [782.75]\n",
      " [778.81]\n",
      " [788.36]\n",
      " [786.08]\n",
      " [795.26]\n",
      " [806.4 ]\n",
      " [807.86]\n",
      " [805.  ]\n",
      " [807.14]\n",
      " [807.48]\n",
      " [807.08]\n",
      " [805.81]\n",
      " [805.12]\n",
      " [806.91]\n",
      " [807.25]\n",
      " [822.3 ]\n",
      " [829.62]\n",
      " [837.81]\n",
      " [834.71]\n",
      " [814.66]\n",
      " [796.86]]\n"
     ]
    }
   ],
   "source": [
    "inputs = inputs.reshape(-1,1)\n",
    "print(inputs)"
   ]
  },
  {
   "cell_type": "markdown",
   "metadata": {},
   "source": [
    "Scale only the input values"
   ]
  },
  {
   "cell_type": "code",
   "execution_count": 27,
   "metadata": {},
   "outputs": [
    {
     "name": "stdout",
     "output_type": "stream",
     "text": [
      "[[0.9299055 ]\n",
      " [0.93113327]\n",
      " [0.92750577]\n",
      " [0.94415507]\n",
      " [0.93876032]\n",
      " [0.93403527]\n",
      " [0.93483518]\n",
      " [0.9313937 ]\n",
      " [0.94636878]\n",
      " [0.96569685]\n",
      " [0.97510976]\n",
      " [0.95966962]\n",
      " [0.97808617]\n",
      " [1.        ]\n",
      " [0.98076494]\n",
      " [0.97083116]\n",
      " [0.98450406]\n",
      " [0.96054394]\n",
      " [0.9371419 ]\n",
      " [0.92841729]\n",
      " [0.90804747]\n",
      " [0.8771858 ]\n",
      " [0.92153434]\n",
      " [0.93809063]\n",
      " [0.93165414]\n",
      " [0.95254483]\n",
      " [0.88812412]\n",
      " [0.88637547]\n",
      " [0.87032145]\n",
      " [0.88563137]\n",
      " [0.90743359]\n",
      " [0.91571173]\n",
      " [0.89941588]\n",
      " [0.91805566]\n",
      " [0.9089404 ]\n",
      " [0.9024853 ]\n",
      " [0.89456061]\n",
      " [0.91600938]\n",
      " [0.9132934 ]\n",
      " [0.88979835]\n",
      " [0.86589404]\n",
      " [0.89030062]\n",
      " [0.90335962]\n",
      " [0.89642086]\n",
      " [0.91777662]\n",
      " [0.93176576]\n",
      " [0.94114145]\n",
      " [0.95762334]\n",
      " [0.96413424]\n",
      " [0.96402262]\n",
      " [0.96971501]\n",
      " [0.95077759]\n",
      " [0.96294367]\n",
      " [0.96123223]\n",
      " [0.95475854]\n",
      " [0.95204256]\n",
      " [0.95163331]\n",
      " [0.95725128]\n",
      " [0.93796041]\n",
      " [0.93688146]\n",
      " [0.92955205]\n",
      " [0.94731751]\n",
      " [0.94307612]\n",
      " [0.96015329]\n",
      " [0.98087655]\n",
      " [0.98359253]\n",
      " [0.97827219]\n",
      " [0.98225314]\n",
      " [0.98288563]\n",
      " [0.98214153]\n",
      " [0.979779  ]\n",
      " [0.97849542]\n",
      " [0.98182528]\n",
      " [0.98245777]\n",
      " [1.01045465]\n",
      " [1.02407173]\n",
      " [1.03930724]\n",
      " [1.03354044]\n",
      " [0.99624228]\n",
      " [0.9631297 ]]\n"
     ]
    }
   ],
   "source": [
    "inputs = scaler.transform(inputs)\n",
    "print(inputs)"
   ]
  },
  {
   "cell_type": "markdown",
   "metadata": {},
   "source": [
    "Make the special structure"
   ]
  },
  {
   "cell_type": "code",
   "execution_count": 28,
   "metadata": {},
   "outputs": [],
   "source": [
    "X_test = []\n",
    "\n",
    "for i in range(nb_timesteps, nb_timesteps+len(dataset_test)):\n",
    "    X_test.append(inputs[i-nb_timesteps:i, 0])\n",
    "\n",
    "X_test = np.array(X_test)"
   ]
  },
  {
   "cell_type": "code",
   "execution_count": 29,
   "metadata": {},
   "outputs": [
    {
     "name": "stdout",
     "output_type": "stream",
     "text": [
      "[[0.9299055  0.93113327 0.92750577 ... 0.95725128 0.93796041 0.93688146]\n",
      " [0.93113327 0.92750577 0.94415507 ... 0.93796041 0.93688146 0.92955205]\n",
      " [0.92750577 0.94415507 0.93876032 ... 0.93688146 0.92955205 0.94731751]\n",
      " ...\n",
      " [0.96054394 0.9371419  0.92841729 ... 1.01045465 1.02407173 1.03930724]\n",
      " [0.9371419  0.92841729 0.90804747 ... 1.02407173 1.03930724 1.03354044]\n",
      " [0.92841729 0.90804747 0.8771858  ... 1.03930724 1.03354044 0.99624228]]\n"
     ]
    }
   ],
   "source": [
    "print(X_test)"
   ]
  },
  {
   "cell_type": "code",
   "execution_count": 30,
   "metadata": {},
   "outputs": [],
   "source": [
    "batch_size, timesteps = X_test.shape\n",
    "input_dim = 1\n",
    "X_test = np.reshape(X_test, (batch_size, timesteps, input_dim))"
   ]
  },
  {
   "cell_type": "code",
   "execution_count": 31,
   "metadata": {},
   "outputs": [
    {
     "name": "stdout",
     "output_type": "stream",
     "text": [
      "[[[0.9299055 ]\n",
      "  [0.93113327]\n",
      "  [0.92750577]\n",
      "  ...\n",
      "  [0.95725128]\n",
      "  [0.93796041]\n",
      "  [0.93688146]]\n",
      "\n",
      " [[0.93113327]\n",
      "  [0.92750577]\n",
      "  [0.94415507]\n",
      "  ...\n",
      "  [0.93796041]\n",
      "  [0.93688146]\n",
      "  [0.92955205]]\n",
      "\n",
      " [[0.92750577]\n",
      "  [0.94415507]\n",
      "  [0.93876032]\n",
      "  ...\n",
      "  [0.93688146]\n",
      "  [0.92955205]\n",
      "  [0.94731751]]\n",
      "\n",
      " ...\n",
      "\n",
      " [[0.96054394]\n",
      "  [0.9371419 ]\n",
      "  [0.92841729]\n",
      "  ...\n",
      "  [1.01045465]\n",
      "  [1.02407173]\n",
      "  [1.03930724]]\n",
      "\n",
      " [[0.9371419 ]\n",
      "  [0.92841729]\n",
      "  [0.90804747]\n",
      "  ...\n",
      "  [1.02407173]\n",
      "  [1.03930724]\n",
      "  [1.03354044]]\n",
      "\n",
      " [[0.92841729]\n",
      "  [0.90804747]\n",
      "  [0.8771858 ]\n",
      "  ...\n",
      "  [1.03930724]\n",
      "  [1.03354044]\n",
      "  [0.99624228]]]\n"
     ]
    }
   ],
   "source": [
    "print(X_test)"
   ]
  },
  {
   "cell_type": "code",
   "execution_count": 32,
   "metadata": {},
   "outputs": [
    {
     "name": "stdout",
     "output_type": "stream",
     "text": [
      "1/1 [==============================] - 1s 568ms/step\n"
     ]
    }
   ],
   "source": [
    "predicted_stock_price = regressor.predict(X_test)"
   ]
  },
  {
   "cell_type": "code",
   "execution_count": 33,
   "metadata": {},
   "outputs": [
    {
     "name": "stdout",
     "output_type": "stream",
     "text": [
      "[[0.95676154]\n",
      " [0.9513264 ]\n",
      " [0.95016074]\n",
      " [0.95007956]\n",
      " [0.9538751 ]\n",
      " [0.96261185]\n",
      " [0.97216105]\n",
      " [0.97913206]\n",
      " [0.98451245]\n",
      " [0.98830736]\n",
      " [0.99054605]\n",
      " [0.99121845]\n",
      " [0.9908413 ]\n",
      " [0.99074334]\n",
      " [0.99086726]\n",
      " [0.9965914 ]\n",
      " [1.006093  ]\n",
      " [1.0182517 ]\n",
      " [1.0279306 ]\n",
      " [1.0273386 ]]\n"
     ]
    }
   ],
   "source": [
    "print(predicted_stock_price)"
   ]
  },
  {
   "cell_type": "markdown",
   "metadata": {},
   "source": [
    "inverse the scaling of the predicted values"
   ]
  },
  {
   "cell_type": "code",
   "execution_count": 34,
   "metadata": {},
   "outputs": [],
   "source": [
    "predicted_stock_price = scaler.inverse_transform(predicted_stock_price)"
   ]
  },
  {
   "cell_type": "code",
   "execution_count": 35,
   "metadata": {},
   "outputs": [
    {
     "name": "stdout",
     "output_type": "stream",
     "text": [
      "[[793.43677]\n",
      " [790.51495]\n",
      " [789.88837]\n",
      " [789.8447 ]\n",
      " [791.88513]\n",
      " [796.58167]\n",
      " [801.71484]\n",
      " [805.4622 ]\n",
      " [808.3545 ]\n",
      " [810.3945 ]\n",
      " [811.59796]\n",
      " [811.95935]\n",
      " [811.75665]\n",
      " [811.704  ]\n",
      " [811.77057]\n",
      " [814.84766]\n",
      " [819.9553 ]\n",
      " [826.49133]\n",
      " [831.69434]\n",
      " [831.3761 ]]\n"
     ]
    }
   ],
   "source": [
    "print(predicted_stock_price)"
   ]
  },
  {
   "cell_type": "markdown",
   "metadata": {},
   "source": [
    "### Visualising the results"
   ]
  },
  {
   "cell_type": "code",
   "execution_count": 41,
   "metadata": {},
   "outputs": [
    {
     "data": {
      "image/png": "[encoded data removed]",
      "text/plain": [
       "<Figure size 640x480 with 1 Axes>"
      ]
     },
     "metadata": {},
     "output_type": "display_data"
    }
   ],
   "source": [
    "plt.plot(real_stock_price, color=\"red\", label=\"Real\")\n",
    "plt.plot(predicted_stock_price, color=\"blue\", label=\"Predicted\")\n",
    "plt.title(\"Googl Stock Price on January 2017\")\n",
    "plt.xlabel(\"Financial day of January 2017\")\n",
    "plt.ylabel(\"Stock Price\")\n",
    "plt.legend()\n",
    "plt.show()"
   ]
  },
  {
   "cell_type": "markdown",
   "metadata": {},
   "source": [
    "Here, we observe a horizontal shift between predicted and actual values, suggesting a problem of temporal synchronization between them. Neural networks, including RNNs, have a certain latency or delay in their response to changes in data, hence the observed phenomenon.\n",
    "\n",
    "Furthermore, it can be argued that the slopes of the predictions appear to be smoother than those of the actual data, indicating that the model struggles to capture the abrupt variations present in the real data. This could be due to insufficient model complexity or over-smoothing of the data, thereby reducing the model's ability to capture rapid and significant changes.\n",
    "\n",
    "### Evaluate the model\n",
    "\n"
   ]
  },
  {
   "cell_type": "code",
   "execution_count": 45,
   "metadata": {},
   "outputs": [],
   "source": [
    "y_true = real_stock_price\n",
    "y_pred = predicted_stock_price"
   ]
  },
  {
   "cell_type": "markdown",
   "metadata": {},
   "source": [
    "#### Residuals plots\n",
    "\n",
    "We will start by using the residual plot. This is an essential tool in evaluating the performance of a regression model. It allows us to analyze the differences between the values predicted by the model and the actual values of the target variable. We then obtain crucial information about the quality of the model's adjustments. \n",
    "\n",
    "A precise model will produce residuals randomly distributed around zero, indicating that the model is not making systematic errors and has effectively captured the trends and patterns in the data. On the other hand, structures or patterns in the residuals can reveal aspects not accounted for by the model, suggesting possible improvements."
   ]
  },
  {
   "cell_type": "code",
   "execution_count": 42,
   "metadata": {},
   "outputs": [
    {
     "data": {
      "image/png": "[encoded data removed]",
      "text/plain": [
       "<Figure size 1000x600 with 1 Axes>"
      ]
     },
     "metadata": {},
     "output_type": "display_data"
    }
   ],
   "source": [
    "residuals = y_true - y_pred\n",
    "\n",
    "plt.figure(figsize=(10, 6))\n",
    "plt.scatter(predicted_stock_price, residuals)\n",
    "plt.axhline(y=0, color='r', linestyle='--')\n",
    "plt.xlabel('Predicted Values')\n",
    "plt.ylabel('Residuals')\n",
    "plt.title('Residuals vs. Predicted Values')\n",
    "plt.show()"
   ]
  },
  {
   "cell_type": "code",
   "execution_count": 48,
   "metadata": {},
   "outputs": [
    {
     "data": {
      "image/png": "[encoded data removed]",
      "text/plain": [
       "<Figure size 1000x600 with 1 Axes>"
      ]
     },
     "metadata": {},
     "output_type": "display_data"
    }
   ],
   "source": [
    "plt.figure(figsize=(10, 6))\n",
    "time = np.arange(len(y_true)) \n",
    "plt.scatter(time, residuals)\n",
    "plt.axhline(y=0, color='r', linestyle='--')\n",
    "plt.xlabel('Time')\n",
    "plt.ylabel('Residuals')\n",
    "plt.title('Residuals over Time')\n",
    "plt.show()"
   ]
  },
  {
   "cell_type": "markdown",
   "metadata": {},
   "source": [
    "#### Q-Q plot\n"
   ]
  },
  {
   "cell_type": "code",
   "execution_count": 49,
   "metadata": {},
   "outputs": [
    {
     "data": {
      "image/png": "[encoded data removed]",
      "text/plain": [
       "<Figure size 800x600 with 1 Axes>"
      ]
     },
     "metadata": {},
     "output_type": "display_data"
    }
   ],
   "source": [
    "quantiles_pred  = np.percentile(y_pred, np.arange(0, 100, 1))\n",
    "quantiles_true = np.percentile(y_true, np.arange(0, 100, 1))\n",
    "\n",
    "plt.figure(figsize=(8, 6))\n",
    "plt.scatter(quantiles_true, quantiles_pred)\n",
    "plt.xlabel('Quantiles des vraies valeurs')\n",
    "plt.ylabel('Quantiles des prédictions')\n",
    "plt.title('QQ Plot')\n",
    "plt.plot([np.min(quantiles_true), np.max(quantiles_true)], [np.min(quantiles_true), np.max(quantiles_true)], color='red', linestyle='--')\n",
    "plt.show()"
   ]
  },
  {
   "cell_type": "markdown",
   "metadata": {},
   "source": [
    "#### R-squared (R²)"
   ]
  },
  {
   "cell_type": "code",
   "execution_count": 47,
   "metadata": {},
   "outputs": [
    {
     "name": "stdout",
     "output_type": "stream",
     "text": [
      "R-quared (R²) : 0.322209097264993\n"
     ]
    }
   ],
   "source": [
    "r_squared = r2_score(y_true, y_pred)\n",
    "print(\"R-quared (R²) :\", r_squared)"
   ]
  },
  {
   "cell_type": "markdown",
   "metadata": {},
   "source": [
    "An R² of 0.322 means that the model is able to explain approximately 32.2% of the total observed variation in the data. This indicates that the model partially captures patterns and trends in the data, but there is still a significant portion of variability not accounted for. A higher R², closer to 1, would be desirable for a better explanation of the variance in the data by the model."
   ]
  },
  {
   "cell_type": "markdown",
   "metadata": {},
   "source": [
    "### Conclusion\n",
    "To enhance the obtained results, it would be prudent to incorporate additional indicators, use a more complex model, optimize the hyperparameters, better manage overfitting, gather more data, and estimate trends using a larger dataset beyond the 60-value timesteps."
   ]
  }
 ],
 "metadata": {
  "kernelspec": {
   "display_name": ".venv",
   "language": "python",
   "name": "python3"
  },
  "language_info": {
   "codemirror_mode": {
    "name": "ipython",
    "version": 3
   },
   "file_extension": ".py",
   "mimetype": "text/x-python",
   "name": "python",
   "nbconvert_exporter": "python",
   "pygments_lexer": "ipython3",
   "version": "3.11.5"
  },
  "orig_nbformat": 4
 },
 "nbformat": 4,
 "nbformat_minor": 2
}
